{
 "cells": [
  {
   "cell_type": "code",
   "execution_count": 1,
   "id": "b012dc12-6d4a-48e0-bae7-8f0be077d5c1",
   "metadata": {},
   "outputs": [
    {
     "name": "stderr",
     "output_type": "stream",
     "text": [
      "/c22073/conda_envs/prismatic/lib/python3.10/site-packages/tqdm/auto.py:21: TqdmWarning: IProgress not found. Please update jupyter and ipywidgets. See https://ipywidgets.readthedocs.io/en/stable/user_install.html\n",
      "  from .autonotebook import tqdm as notebook_tqdm\n"
     ]
    }
   ],
   "source": [
    "import torch\n",
    "from prismatic.models.backbones.accessory import BBoxEncoder, BBoxDecoder, ResNetEncoder, ResNet50Enc, MaskDecoderAllInOne"
   ]
  },
  {
   "cell_type": "code",
   "execution_count": 2,
   "id": "1e187817-22b9-4fb5-8c1c-0d4581121d84",
   "metadata": {},
   "outputs": [],
   "source": [
    "net = ResNet50Enc()"
   ]
  },
  {
   "cell_type": "code",
   "execution_count": 6,
   "id": "252b5436-a590-4b30-b01e-78c71d00d2df",
   "metadata": {},
   "outputs": [
    {
     "name": "stdout",
     "output_type": "stream",
     "text": [
      "torch.Size([2, 4096])\n"
     ]
    }
   ],
   "source": [
    "x = net(torch.rand(2, 1, 384, 384))\n",
    "print(x.shape)"
   ]
  },
  {
   "cell_type": "code",
   "execution_count": null,
   "id": "c16993b0-dcd6-454a-a646-9ce4b4689c11",
   "metadata": {},
   "outputs": [],
   "source": []
  }
 ],
 "metadata": {
  "kernelspec": {
   "display_name": "prismatic",
   "language": "python",
   "name": "prismatic"
  },
  "language_info": {
   "codemirror_mode": {
    "name": "ipython",
    "version": 3
   },
   "file_extension": ".py",
   "mimetype": "text/x-python",
   "name": "python",
   "nbconvert_exporter": "python",
   "pygments_lexer": "ipython3",
   "version": "3.10.14"
  }
 },
 "nbformat": 4,
 "nbformat_minor": 5
}
